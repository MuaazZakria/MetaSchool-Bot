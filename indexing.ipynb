from pinecone import Pinecone, ServerlessSpec
from langchain_pinecone import PineconeVectorStore
from langchain.embeddings import OpenAIEmbeddings

from langchain.text_splitter import TokenTextSplitter

text_splitter = TokenTextSplitter(
    chunk_size=512,
    chunk_overlap=100,
)

chunks_with_metadata = []
for doc in documents:
    # Split the document into chunks
    chunks = text_splitter.split_text(doc.page_content)
    # Associate metadata with each chunk
    for chunk in chunks:
        chunks_with_metadata.append(
            {
                "content": chunk,
                "metadata": doc.metadata,  # Preserve metadata from original document
            }
        )


#from langchain_openai import OpenAIEmbeddings
model = OpenAIEmbeddings(model="text-embedding-3-small", openai_api_key=os.getenv("OPEN_AI_KEY"))

index_name = "metaschool-new-index"
namespace = "default_namespace"

pc = Pinecone(api_key=os.getenv("PINECONE_API_KEY"))



existing_indexes = [index_info["name"] for index_info in pc.list_indexes()]
if index_name not in existing_indexes:
    pc.create_index(
        name=index_name,
        dimension=1536,
        metric="cosine",
        spec=ServerlessSpec(cloud="aws", region="us-east-1"),
    )

index = pc.Index(index_name)

vectorstore = PineconeVectorStore(
                index=index, embedding=model, namespace=namespace
            )

documents = [Document(
                    page_content=chunk["content"],
                    metadata={
                        **chunk["metadata"]
                        },
                )
                for chunk in chunks_with_metadata
            ]
vectorstore.add_documents(documents)
